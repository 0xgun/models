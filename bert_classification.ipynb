{
 "cells": [
  {
   "cell_type": "code",
   "execution_count": 1,
   "metadata": {},
   "outputs": [],
   "source": [
    "import tensorflow as tf\n",
    "import numpy as np\n",
    "import pandas as pd\n",
    "import seaborn as sns\n",
    "import matplotlib.pyplot as plt\n",
    "from tqdm import tqdm"
   ]
  },
  {
   "cell_type": "code",
   "execution_count": 2,
   "metadata": {
    "scrolled": true
   },
   "outputs": [
    {
     "data": {
      "text/html": [
       "<div>\n",
       "<style scoped>\n",
       "    .dataframe tbody tr th:only-of-type {\n",
       "        vertical-align: middle;\n",
       "    }\n",
       "\n",
       "    .dataframe tbody tr th {\n",
       "        vertical-align: top;\n",
       "    }\n",
       "\n",
       "    .dataframe thead th {\n",
       "        text-align: right;\n",
       "    }\n",
       "</style>\n",
       "<table border=\"1\" class=\"dataframe\">\n",
       "  <thead>\n",
       "    <tr style=\"text-align: right;\">\n",
       "      <th></th>\n",
       "      <th>PhraseId</th>\n",
       "      <th>SentenceId</th>\n",
       "      <th>Phrase</th>\n",
       "      <th>Sentiment</th>\n",
       "    </tr>\n",
       "  </thead>\n",
       "  <tbody>\n",
       "    <tr>\n",
       "      <th>0</th>\n",
       "      <td>1</td>\n",
       "      <td>1</td>\n",
       "      <td>A series of escapades demonstrating the adage ...</td>\n",
       "      <td>1</td>\n",
       "    </tr>\n",
       "    <tr>\n",
       "      <th>1</th>\n",
       "      <td>2</td>\n",
       "      <td>1</td>\n",
       "      <td>A series of escapades demonstrating the adage ...</td>\n",
       "      <td>2</td>\n",
       "    </tr>\n",
       "    <tr>\n",
       "      <th>2</th>\n",
       "      <td>3</td>\n",
       "      <td>1</td>\n",
       "      <td>A series</td>\n",
       "      <td>2</td>\n",
       "    </tr>\n",
       "    <tr>\n",
       "      <th>3</th>\n",
       "      <td>4</td>\n",
       "      <td>1</td>\n",
       "      <td>A</td>\n",
       "      <td>2</td>\n",
       "    </tr>\n",
       "    <tr>\n",
       "      <th>4</th>\n",
       "      <td>5</td>\n",
       "      <td>1</td>\n",
       "      <td>series</td>\n",
       "      <td>2</td>\n",
       "    </tr>\n",
       "  </tbody>\n",
       "</table>\n",
       "</div>"
      ],
      "text/plain": [
       "   PhraseId  SentenceId                                             Phrase  \\\n",
       "0         1           1  A series of escapades demonstrating the adage ...   \n",
       "1         2           1  A series of escapades demonstrating the adage ...   \n",
       "2         3           1                                           A series   \n",
       "3         4           1                                                  A   \n",
       "4         5           1                                             series   \n",
       "\n",
       "   Sentiment  \n",
       "0          1  \n",
       "1          2  \n",
       "2          2  \n",
       "3          2  \n",
       "4          2  "
      ]
     },
     "execution_count": 2,
     "metadata": {},
     "output_type": "execute_result"
    }
   ],
   "source": [
    "df1 = pd.read_csv(\"dataset/train.tsv\", sep=\"\\t\")\n",
    "df1.head()"
   ]
  },
  {
   "cell_type": "code",
   "execution_count": 3,
   "metadata": {},
   "outputs": [
    {
     "data": {
      "text/plain": [
       "(156060, 4)"
      ]
     },
     "execution_count": 3,
     "metadata": {},
     "output_type": "execute_result"
    }
   ],
   "source": [
    "df1.shape"
   ]
  },
  {
   "cell_type": "code",
   "execution_count": 4,
   "metadata": {},
   "outputs": [
    {
     "data": {
      "text/html": [
       "<div>\n",
       "<style scoped>\n",
       "    .dataframe tbody tr th:only-of-type {\n",
       "        vertical-align: middle;\n",
       "    }\n",
       "\n",
       "    .dataframe tbody tr th {\n",
       "        vertical-align: top;\n",
       "    }\n",
       "\n",
       "    .dataframe thead th {\n",
       "        text-align: right;\n",
       "    }\n",
       "</style>\n",
       "<table border=\"1\" class=\"dataframe\">\n",
       "  <thead>\n",
       "    <tr style=\"text-align: right;\">\n",
       "      <th></th>\n",
       "      <th>PhraseId</th>\n",
       "      <th>SentenceId</th>\n",
       "      <th>Phrase</th>\n",
       "      <th>Sentiment</th>\n",
       "    </tr>\n",
       "  </thead>\n",
       "  <tbody>\n",
       "    <tr>\n",
       "      <th>0</th>\n",
       "      <td>1</td>\n",
       "      <td>1</td>\n",
       "      <td>A series of escapades demonstrating the adage ...</td>\n",
       "      <td>1</td>\n",
       "    </tr>\n",
       "    <tr>\n",
       "      <th>63</th>\n",
       "      <td>64</td>\n",
       "      <td>2</td>\n",
       "      <td>This quiet , introspective and entertaining in...</td>\n",
       "      <td>4</td>\n",
       "    </tr>\n",
       "    <tr>\n",
       "      <th>81</th>\n",
       "      <td>82</td>\n",
       "      <td>3</td>\n",
       "      <td>Even fans of Ismail Merchant 's work , I suspe...</td>\n",
       "      <td>1</td>\n",
       "    </tr>\n",
       "    <tr>\n",
       "      <th>116</th>\n",
       "      <td>117</td>\n",
       "      <td>4</td>\n",
       "      <td>A positively thrilling combination of ethnogra...</td>\n",
       "      <td>3</td>\n",
       "    </tr>\n",
       "    <tr>\n",
       "      <th>156</th>\n",
       "      <td>157</td>\n",
       "      <td>5</td>\n",
       "      <td>Aggressive self-glorification and a manipulati...</td>\n",
       "      <td>1</td>\n",
       "    </tr>\n",
       "  </tbody>\n",
       "</table>\n",
       "</div>"
      ],
      "text/plain": [
       "     PhraseId  SentenceId                                             Phrase  \\\n",
       "0           1           1  A series of escapades demonstrating the adage ...   \n",
       "63         64           2  This quiet , introspective and entertaining in...   \n",
       "81         82           3  Even fans of Ismail Merchant 's work , I suspe...   \n",
       "116       117           4  A positively thrilling combination of ethnogra...   \n",
       "156       157           5  Aggressive self-glorification and a manipulati...   \n",
       "\n",
       "     Sentiment  \n",
       "0            1  \n",
       "63           4  \n",
       "81           1  \n",
       "116          3  \n",
       "156          1  "
      ]
     },
     "execution_count": 4,
     "metadata": {},
     "output_type": "execute_result"
    }
   ],
   "source": [
    "df1.drop_duplicates(subset=\"SentenceId\", keep=\"first\", inplace=True)\n",
    "df1.head()"
   ]
  },
  {
   "cell_type": "code",
   "execution_count": 5,
   "metadata": {},
   "outputs": [
    {
     "data": {
      "text/plain": [
       "(8529, 4)"
      ]
     },
     "execution_count": 5,
     "metadata": {},
     "output_type": "execute_result"
    }
   ],
   "source": [
    "df1.shape"
   ]
  },
  {
   "cell_type": "code",
   "execution_count": 6,
   "metadata": {},
   "outputs": [
    {
     "name": "stdout",
     "output_type": "stream",
     "text": [
      "<class 'pandas.core.frame.DataFrame'>\n",
      "Int64Index: 8529 entries, 0 to 156039\n",
      "Data columns (total 4 columns):\n",
      " #   Column      Non-Null Count  Dtype \n",
      "---  ------      --------------  ----- \n",
      " 0   PhraseId    8529 non-null   int64 \n",
      " 1   SentenceId  8529 non-null   int64 \n",
      " 2   Phrase      8529 non-null   object\n",
      " 3   Sentiment   8529 non-null   int64 \n",
      "dtypes: int64(3), object(1)\n",
      "memory usage: 333.2+ KB\n"
     ]
    }
   ],
   "source": [
    "df1.info()"
   ]
  },
  {
   "cell_type": "code",
   "execution_count": 7,
   "metadata": {},
   "outputs": [
    {
     "data": {
      "text/plain": [
       "3    2321\n",
       "1    2200\n",
       "2    1655\n",
       "4    1281\n",
       "0    1072\n",
       "Name: Sentiment, dtype: int64"
      ]
     },
     "execution_count": 7,
     "metadata": {},
     "output_type": "execute_result"
    }
   ],
   "source": [
    "df1[\"Sentiment\"].value_counts()"
   ]
  },
  {
   "cell_type": "code",
   "execution_count": 8,
   "metadata": {},
   "outputs": [
    {
     "data": {
      "image/png": "[encoded data removed]",
      "text/plain": [
       "<Figure size 500x500 with 1 Axes>"
      ]
     },
     "metadata": {},
     "output_type": "display_data"
    },
    {
     "data": {
      "text/plain": [
       "<Figure size 10000x2500 with 0 Axes>"
      ]
     },
     "metadata": {},
     "output_type": "display_data"
    }
   ],
   "source": [
    "sns.displot(df1[\"Phrase\"].apply(lambda x: len(x.split())))\n",
    "\n",
    "sns.set_style(\"darkgrid\")\n",
    "plt.figure(figsize=(100,25))\n",
    "plt.show()"
   ]
  },
  {
   "cell_type": "code",
   "execution_count": 9,
   "metadata": {
    "scrolled": true
   },
   "outputs": [
    {
     "name": "stderr",
     "output_type": "stream",
     "text": [
      "C:\\Users\\ganes\\anaconda3\\envs\\project\\lib\\site-packages\\tqdm\\auto.py:21: TqdmWarning: IProgress not found. Please update jupyter and ipywidgets. See https://ipywidgets.readthedocs.io/en/stable/user_install.html\n",
      "  from .autonotebook import tqdm as notebook_tqdm\n",
      "Downloading (…)okenizer_config.json: 100%|██████████████████████████████████████████| 29.0/29.0 [00:00<00:00, 7.27kB/s]\n",
      "C:\\Users\\ganes\\anaconda3\\envs\\project\\lib\\site-packages\\huggingface_hub\\file_download.py:133: UserWarning: `huggingface_hub` cache-system uses symlinks by default to efficiently store duplicated files but your machine does not support them in C:\\Users\\ganes\\.cache\\huggingface\\hub. Caching files will still work but in a degraded version that might require more space on your disk. This warning can be disabled by setting the `HF_HUB_DISABLE_SYMLINKS_WARNING` environment variable. For more details, see https://huggingface.co/docs/huggingface_hub/how-to-cache#limitations.\n",
      "To support symlinks on Windows, you either need to activate Developer Mode or to run Python as an administrator. In order to see activate developer mode, see this article: https://docs.microsoft.com/en-us/windows/apps/get-started/enable-your-device-for-development\n",
      "  warnings.warn(message)\n",
      "Downloading (…)lve/main/config.json: 100%|█████████████████████████████████████████████| 570/570 [00:00<00:00, 104kB/s]\n",
      "Downloading (…)solve/main/vocab.txt: 100%|███████████████████████████████████████████| 213k/213k [00:00<00:00, 527kB/s]\n",
      "Downloading (…)/main/tokenizer.json: 100%|███████████████████████████████████████████| 436k/436k [00:00<00:00, 733kB/s]\n"
     ]
    }
   ],
   "source": [
    "SEQ_LEN = 50\n",
    "from transformers import AutoTokenizer\n",
    "\n",
    "tokenizer = AutoTokenizer.from_pretrained('bert-base-cased')"
   ]
  },
  {
   "cell_type": "code",
   "execution_count": 10,
   "metadata": {},
   "outputs": [
    {
     "data": {
      "text/plain": [
       "((8529, 50), (8529, 50))"
      ]
     },
     "execution_count": 10,
     "metadata": {},
     "output_type": "execute_result"
    }
   ],
   "source": [
    "Xids = np.zeros((len(df1), SEQ_LEN))\n",
    "Xmask = np.zeros((len(df1), SEQ_LEN))\n",
    "\n",
    "Xids.shape, Xmask.shape"
   ]
  },
  {
   "cell_type": "code",
   "execution_count": 11,
   "metadata": {},
   "outputs": [],
   "source": [
    "for i, sequence in enumerate(df1[\"Phrase\"]):\n",
    "    tokens = tokenizer.encode_plus(sequence, max_length=SEQ_LEN, \n",
    "                               truncation=True, padding=\"max_length\",\n",
    "                               add_special_tokens=True, return_token_type_ids=False,\n",
    "                               return_attention_mask=True, return_tensors=\"tf\"\n",
    "                              )\n",
    "    Xids[i, :], Xmask[i, :] = tokens[\"input_ids\"], tokens[\"attention_mask\"]"
   ]
  },
  {
   "cell_type": "code",
   "execution_count": 12,
   "metadata": {},
   "outputs": [
    {
     "data": {
      "text/plain": [
       "array([[0., 0., 0., 0., 0.],\n",
       "       [0., 0., 0., 0., 0.],\n",
       "       [0., 0., 0., 0., 0.],\n",
       "       ...,\n",
       "       [0., 0., 0., 0., 0.],\n",
       "       [0., 0., 0., 0., 0.],\n",
       "       [0., 0., 0., 0., 0.]])"
      ]
     },
     "execution_count": 12,
     "metadata": {},
     "output_type": "execute_result"
    }
   ],
   "source": [
    "lbl_arr = df1[\"Sentiment\"].values\n",
    "final_labels = np.zeros((lbl_arr.size, lbl_arr.max()+1))\n",
    "\n",
    "final_labels"
   ]
  },
  {
   "cell_type": "code",
   "execution_count": 13,
   "metadata": {},
   "outputs": [
    {
     "data": {
      "text/plain": [
       "array([[0., 1., 0., 0., 0.],\n",
       "       [0., 0., 0., 0., 1.],\n",
       "       [0., 1., 0., 0., 0.],\n",
       "       ...,\n",
       "       [0., 1., 0., 0., 0.],\n",
       "       [0., 1., 0., 0., 0.],\n",
       "       [0., 0., 1., 0., 0.]])"
      ]
     },
     "execution_count": 13,
     "metadata": {},
     "output_type": "execute_result"
    }
   ],
   "source": [
    "final_labels[np.arange(lbl_arr.size), lbl_arr] = 1\n",
    "final_labels"
   ]
  },
  {
   "cell_type": "code",
   "execution_count": 14,
   "metadata": {},
   "outputs": [],
   "source": [
    "with open(\"dataset/bertDataset.npz\", \"wb\") as f:\n",
    "    np.savez(f, Xids = Xids, Xmask = Xmask, labels = final_labels)"
   ]
  },
  {
   "cell_type": "code",
   "execution_count": 15,
   "metadata": {},
   "outputs": [],
   "source": [
    "del Xids, Xmask, final_labels, df1"
   ]
  },
  {
   "cell_type": "code",
   "execution_count": 16,
   "metadata": {},
   "outputs": [],
   "source": [
    "with open(\"dataset/bertDataset.npz\", \"rb\") as f:\n",
    "    data = np.load(f)\n",
    "    \n",
    "    Xids = data[\"Xids\"]\n",
    "    Xmask = data[\"Xmask\"]\n",
    "    labels = data[\"labels\"]"
   ]
  },
  {
   "cell_type": "code",
   "execution_count": 17,
   "metadata": {},
   "outputs": [
    {
     "data": {
      "text/plain": [
       "((8529, 50), (8529, 50), (8529, 5))"
      ]
     },
     "execution_count": 17,
     "metadata": {},
     "output_type": "execute_result"
    }
   ],
   "source": [
    "Xids.shape, Xmask.shape, labels.shape"
   ]
  },
  {
   "cell_type": "code",
   "execution_count": 18,
   "metadata": {},
   "outputs": [],
   "source": [
    "dataset = tf.data.Dataset.from_tensor_slices((Xids, Xmask, labels))"
   ]
  },
  {
   "cell_type": "code",
   "execution_count": 19,
   "metadata": {},
   "outputs": [],
   "source": [
    "def map_func(input_ids, masks, labels):\n",
    "    return {\"input_ids\": input_ids, \"attention_mask\": masks}, labels"
   ]
  },
  {
   "cell_type": "code",
   "execution_count": 20,
   "metadata": {},
   "outputs": [
    {
     "name": "stdout",
     "output_type": "stream",
     "text": [
      "({'input_ids': <tf.Tensor: shape=(50,), dtype=float64, numpy=\n",
      "array([  101.,   138.,  1326.,  1104., 13936., 25265., 16913., 15107.,\n",
      "        1103.,  8050.,  2553.,  1115.,  1184.,  1110.,  1363.,  1111.,\n",
      "        1103., 20398.,  1110.,  1145.,  1363.,  1111.,  1103.,   176.,\n",
      "        9900.,   117.,  1199.,  1104.,  1134.,  5411.,  1821., 14225.,\n",
      "        1133.,  3839.,  1104.,  1134.,  7919.,  1106.,  1277.,  1104.,\n",
      "         170.,  1642.,   119.,   102.,     0.,     0.,     0.,     0.,\n",
      "           0.,     0.])>, 'attention_mask': <tf.Tensor: shape=(50,), dtype=float64, numpy=\n",
      "array([1., 1., 1., 1., 1., 1., 1., 1., 1., 1., 1., 1., 1., 1., 1., 1., 1.,\n",
      "       1., 1., 1., 1., 1., 1., 1., 1., 1., 1., 1., 1., 1., 1., 1., 1., 1.,\n",
      "       1., 1., 1., 1., 1., 1., 1., 1., 1., 1., 0., 0., 0., 0., 0., 0.])>}, <tf.Tensor: shape=(5,), dtype=float64, numpy=array([0., 1., 0., 0., 0.])>)\n"
     ]
    }
   ],
   "source": [
    "dataset = dataset.map(map_func)\n",
    "\n",
    "for i in dataset.take(1):\n",
    "    print(i)"
   ]
  },
  {
   "cell_type": "code",
   "execution_count": 21,
   "metadata": {},
   "outputs": [],
   "source": [
    "dataset = dataset.shuffle(1000000).batch(32)"
   ]
  },
  {
   "cell_type": "code",
   "execution_count": 22,
   "metadata": {},
   "outputs": [],
   "source": [
    "DS_LEN = len(dataset)"
   ]
  },
  {
   "cell_type": "code",
   "execution_count": 23,
   "metadata": {},
   "outputs": [],
   "source": [
    "SPLIT = 0.9\n",
    "\n",
    "train_data = dataset.take(round(DS_LEN * SPLIT))\n",
    "val_data = dataset.skip(round(DS_LEN * SPLIT))\n",
    "\n",
    "del dataset"
   ]
  },
  {
   "cell_type": "code",
   "execution_count": 24,
   "metadata": {},
   "outputs": [
    {
     "name": "stderr",
     "output_type": "stream",
     "text": [
      "Downloading tf_model.h5: 100%|██████████████████████████████████████████████████████| 527M/527M [00:39<00:00, 13.5MB/s]\n",
      "Some layers from the model checkpoint at bert-base-cased were not used when initializing TFBertModel: ['nsp___cls', 'mlm___cls']\n",
      "- This IS expected if you are initializing TFBertModel from the checkpoint of a model trained on another task or with another architecture (e.g. initializing a BertForSequenceClassification model from a BertForPreTraining model).\n",
      "- This IS NOT expected if you are initializing TFBertModel from the checkpoint of a model that you expect to be exactly identical (initializing a BertForSequenceClassification model from a BertForSequenceClassification model).\n",
      "All the layers of TFBertModel were initialized from the model checkpoint at bert-base-cased.\n",
      "If your task is similar to the task the model of the checkpoint was trained on, you can already use TFBertModel for predictions without further training.\n"
     ]
    }
   ],
   "source": [
    "from transformers import TFAutoModel\n",
    "\n",
    "bert = TFAutoModel.from_pretrained(\"bert-base-cased\")"
   ]
  },
  {
   "cell_type": "code",
   "execution_count": 25,
   "metadata": {},
   "outputs": [],
   "source": [
    "input_ids = tf.keras.layers.Input(shape=(SEQ_LEN, ), name=\"input_ids\", dtype=\"int32\")\n",
    "mask = tf.keras.layers.Input(shape=(SEQ_LEN, ), name=\"attention_mask\", dtype=\"int32\")\n",
    "\n",
    "embeddings = bert(input_ids, attention_mask=mask)[0]\n",
    "\n",
    "X = tf.keras.layers.GlobalMaxPool1D()(embeddings)\n",
    "X = tf.keras.layers.BatchNormalization()(X)\n",
    "X = tf.keras.layers.Dense(64, activation=\"relu\")(X)\n",
    "X = tf.keras.layers.Dense(128, activation=\"relu\")(X)\n",
    "X = tf.keras.layers.Dropout(0.1)(X)\n",
    "X = tf.keras.layers.Dense(64, activation=\"relu\")(X)\n",
    "X = tf.keras.layers.Dense(32, activation=\"relu\")(X)\n",
    "\n",
    "y = tf.keras.layers.Dense(5, activation=\"softmax\",  name=\"outputs\")(X)\n",
    "\n",
    "model = tf.keras.Model(inputs=[input_ids, mask], outputs=y)\n",
    "\n",
    "model.layers[2].trainable = False"
   ]
  },
  {
   "cell_type": "code",
   "execution_count": 26,
   "metadata": {},
   "outputs": [
    {
     "name": "stdout",
     "output_type": "stream",
     "text": [
      "Model: \"functional_1\"\n",
      "__________________________________________________________________________________________________\n",
      "Layer (type)                    Output Shape         Param #     Connected to                     \n",
      "==================================================================================================\n",
      "input_ids (InputLayer)          [(None, 50)]         0                                            \n",
      "__________________________________________________________________________________________________\n",
      "attention_mask (InputLayer)     [(None, 50)]         0                                            \n",
      "__________________________________________________________________________________________________\n",
      "tf_bert_model (TFBertModel)     TFBaseModelOutputWit 108310272   input_ids[0][0]                  \n",
      "                                                                 attention_mask[0][0]             \n",
      "__________________________________________________________________________________________________\n",
      "global_max_pooling1d (GlobalMax (None, 768)          0           tf_bert_model[0][0]              \n",
      "__________________________________________________________________________________________________\n",
      "batch_normalization (BatchNorma (None, 768)          3072        global_max_pooling1d[0][0]       \n",
      "__________________________________________________________________________________________________\n",
      "dense (Dense)                   (None, 64)           49216       batch_normalization[0][0]        \n",
      "__________________________________________________________________________________________________\n",
      "dense_1 (Dense)                 (None, 128)          8320        dense[0][0]                      \n",
      "__________________________________________________________________________________________________\n",
      "dropout_37 (Dropout)            (None, 128)          0           dense_1[0][0]                    \n",
      "__________________________________________________________________________________________________\n",
      "dense_2 (Dense)                 (None, 64)           8256        dropout_37[0][0]                 \n",
      "__________________________________________________________________________________________________\n",
      "dense_3 (Dense)                 (None, 32)           2080        dense_2[0][0]                    \n",
      "__________________________________________________________________________________________________\n",
      "outputs (Dense)                 (None, 5)            165         dense_3[0][0]                    \n",
      "==================================================================================================\n",
      "Total params: 108,381,381\n",
      "Trainable params: 69,573\n",
      "Non-trainable params: 108,311,808\n",
      "__________________________________________________________________________________________________\n"
     ]
    }
   ],
   "source": [
    "model.summary()"
   ]
  },
  {
   "cell_type": "code",
   "execution_count": 27,
   "metadata": {},
   "outputs": [],
   "source": [
    "callbacks = [tf.keras.callbacks.EarlyStopping(monitor=\"val_loss\",patience=8),\n",
    "            tf.keras.callbacks.ModelCheckpoint(\"bert_model.h5\",verbose= 1 ,save_best_only=True)]\n",
    "\n",
    "optimizer = tf.keras.optimizers.Adam(0.001)\n",
    "loss = tf.keras.losses.CategoricalCrossentropy()\n",
    "acc = tf.keras.metrics.CategoricalAccuracy(\"accuracy\")\n",
    "\n",
    "model.compile(optimizer=optimizer, loss=loss, metrics=[acc])"
   ]
  },
  {
   "cell_type": "code",
   "execution_count": null,
   "metadata": {
    "scrolled": true
   },
   "outputs": [
    {
     "name": "stdout",
     "output_type": "stream",
     "text": [
      "Epoch 1/200\n",
      "240/240 [==============================] - ETA: 0s - loss: 1.4444 - accuracy: 0.3569\n",
      "Epoch 00001: val_loss improved from inf to 1.29720, saving model to bert_model.h5\n",
      "240/240 [==============================] - 660s 3s/step - loss: 1.4444 - accuracy: 0.3569 - val_loss: 1.2972 - val_accuracy: 0.4264\n",
      "Epoch 2/200\n",
      "240/240 [==============================] - ETA: 0s - loss: 1.3075 - accuracy: 0.4294\n",
      "Epoch 00002: val_loss improved from 1.29720 to 1.22915, saving model to bert_model.h5\n",
      "240/240 [==============================] - 678s 3s/step - loss: 1.3075 - accuracy: 0.4294 - val_loss: 1.2292 - val_accuracy: 0.4888\n",
      "Epoch 3/200\n",
      "240/240 [==============================] - ETA: 0s - loss: 1.2798 - accuracy: 0.4495\n",
      "Epoch 00003: val_loss improved from 1.22915 to 1.16856, saving model to bert_model.h5\n",
      "240/240 [==============================] - 681s 3s/step - loss: 1.2798 - accuracy: 0.4495 - val_loss: 1.1686 - val_accuracy: 0.4865\n",
      "Epoch 4/200\n",
      "240/240 [==============================] - ETA: 0s - loss: 1.2370 - accuracy: 0.4612\n",
      "Epoch 00004: val_loss improved from 1.16856 to 1.13590, saving model to bert_model.h5\n",
      "240/240 [==============================] - 901s 4s/step - loss: 1.2370 - accuracy: 0.4612 - val_loss: 1.1359 - val_accuracy: 0.5171\n",
      "Epoch 5/200\n",
      "240/240 [==============================] - ETA: 0s - loss: 1.2276 - accuracy: 0.4714\n",
      "Epoch 00005: val_loss improved from 1.13590 to 1.10399, saving model to bert_model.h5\n",
      "240/240 [==============================] - 847s 4s/step - loss: 1.2276 - accuracy: 0.4714 - val_loss: 1.1040 - val_accuracy: 0.5489\n",
      "Epoch 6/200\n",
      "240/240 [==============================] - ETA: 0s - loss: 1.2078 - accuracy: 0.4784\n",
      "Epoch 00006: val_loss improved from 1.10399 to 1.05034, saving model to bert_model.h5\n",
      "240/240 [==============================] - 853s 4s/step - loss: 1.2078 - accuracy: 0.4784 - val_loss: 1.0503 - val_accuracy: 0.5795\n",
      "Epoch 7/200\n",
      "240/240 [==============================] - ETA: 0s - loss: 1.1871 - accuracy: 0.4874\n",
      "Epoch 00007: val_loss improved from 1.05034 to 1.04555, saving model to bert_model.h5\n",
      "240/240 [==============================] - 862s 4s/step - loss: 1.1871 - accuracy: 0.4874 - val_loss: 1.0455 - val_accuracy: 0.5595\n",
      "Epoch 8/200\n",
      "240/240 [==============================] - ETA: 0s - loss: 1.1748 - accuracy: 0.4944\n",
      "Epoch 00008: val_loss did not improve from 1.04555\n",
      "240/240 [==============================] - 586s 2s/step - loss: 1.1748 - accuracy: 0.4944 - val_loss: 1.0494 - val_accuracy: 0.5336\n",
      "Epoch 9/200\n",
      "240/240 [==============================] - ETA: 0s - loss: 1.1569 - accuracy: 0.5079\n",
      "Epoch 00009: val_loss improved from 1.04555 to 0.99863, saving model to bert_model.h5\n",
      "240/240 [==============================] - 548s 2s/step - loss: 1.1569 - accuracy: 0.5079 - val_loss: 0.9986 - val_accuracy: 0.5984\n",
      "Epoch 10/200\n",
      "240/240 [==============================] - ETA: 0s - loss: 1.1415 - accuracy: 0.5083\n",
      "Epoch 00010: val_loss improved from 0.99863 to 0.97923, saving model to bert_model.h5\n",
      "240/240 [==============================] - 570s 2s/step - loss: 1.1415 - accuracy: 0.5083 - val_loss: 0.9792 - val_accuracy: 0.5995\n",
      "Epoch 11/200\n",
      "240/240 [==============================] - ETA: 0s - loss: 1.1263 - accuracy: 0.5207\n",
      "Epoch 00011: val_loss improved from 0.97923 to 0.95937, saving model to bert_model.h5\n",
      "240/240 [==============================] - 605s 3s/step - loss: 1.1263 - accuracy: 0.5207 - val_loss: 0.9594 - val_accuracy: 0.6019\n",
      "Epoch 12/200\n",
      "240/240 [==============================] - ETA: 0s - loss: 1.1082 - accuracy: 0.5270\n",
      "Epoch 00012: val_loss improved from 0.95937 to 0.88352, saving model to bert_model.h5\n",
      "240/240 [==============================] - 529s 2s/step - loss: 1.1082 - accuracy: 0.5270 - val_loss: 0.8835 - val_accuracy: 0.6584\n",
      "Epoch 13/200\n",
      "240/240 [==============================] - ETA: 0s - loss: 1.0930 - accuracy: 0.5374\n",
      "Epoch 00013: val_loss improved from 0.88352 to 0.85590, saving model to bert_model.h5\n",
      "240/240 [==============================] - 531s 2s/step - loss: 1.0930 - accuracy: 0.5374 - val_loss: 0.8559 - val_accuracy: 0.6549\n",
      "Epoch 14/200\n",
      "240/240 [==============================] - ETA: 0s - loss: 1.0733 - accuracy: 0.5404\n",
      "Epoch 00014: val_loss improved from 0.85590 to 0.82286, saving model to bert_model.h5\n",
      "240/240 [==============================] - 524s 2s/step - loss: 1.0733 - accuracy: 0.5404 - val_loss: 0.8229 - val_accuracy: 0.6726\n",
      "Epoch 15/200\n",
      "240/240 [==============================] - ETA: 0s - loss: 1.0671 - accuracy: 0.5466\n",
      "Epoch 00015: val_loss improved from 0.82286 to 0.81007, saving model to bert_model.h5\n",
      "240/240 [==============================] - 517s 2s/step - loss: 1.0671 - accuracy: 0.5466 - val_loss: 0.8101 - val_accuracy: 0.6949\n",
      "Epoch 16/200\n",
      "240/240 [==============================] - ETA: 0s - loss: 1.0413 - accuracy: 0.5637\n",
      "Epoch 00016: val_loss did not improve from 0.81007\n",
      "240/240 [==============================] - 513s 2s/step - loss: 1.0413 - accuracy: 0.5637 - val_loss: 0.8204 - val_accuracy: 0.6879\n",
      "Epoch 17/200\n",
      "240/240 [==============================] - ETA: 0s - loss: 1.0405 - accuracy: 0.5639\n",
      "Epoch 00017: val_loss improved from 0.81007 to 0.79696, saving model to bert_model.h5\n",
      "240/240 [==============================] - 513s 2s/step - loss: 1.0405 - accuracy: 0.5639 - val_loss: 0.7970 - val_accuracy: 0.6867\n",
      "Epoch 18/200\n",
      "240/240 [==============================] - ETA: 0s - loss: 1.0271 - accuracy: 0.5669\n",
      "Epoch 00018: val_loss improved from 0.79696 to 0.76091, saving model to bert_model.h5\n",
      "240/240 [==============================] - 555s 2s/step - loss: 1.0271 - accuracy: 0.5669 - val_loss: 0.7609 - val_accuracy: 0.7267\n",
      "Epoch 19/200\n",
      "240/240 [==============================] - ETA: 0s - loss: 1.0216 - accuracy: 0.5737\n",
      "Epoch 00019: val_loss improved from 0.76091 to 0.75388, saving model to bert_model.h5\n",
      "240/240 [==============================] - 583s 2s/step - loss: 1.0216 - accuracy: 0.5737 - val_loss: 0.7539 - val_accuracy: 0.7197\n",
      "Epoch 20/200\n",
      "240/240 [==============================] - ETA: 0s - loss: 0.9919 - accuracy: 0.5858\n",
      "Epoch 00020: val_loss improved from 0.75388 to 0.68483, saving model to bert_model.h5\n",
      "240/240 [==============================] - 575s 2s/step - loss: 0.9919 - accuracy: 0.5858 - val_loss: 0.6848 - val_accuracy: 0.7621\n",
      "Epoch 21/200\n",
      "240/240 [==============================] - ETA: 0s - loss: 0.9837 - accuracy: 0.5861\n",
      "Epoch 00021: val_loss improved from 0.68483 to 0.66927, saving model to bert_model.h5\n",
      "240/240 [==============================] - 570s 2s/step - loss: 0.9837 - accuracy: 0.5861 - val_loss: 0.6693 - val_accuracy: 0.7491\n",
      "Epoch 22/200\n",
      "240/240 [==============================] - ETA: 0s - loss: 0.9792 - accuracy: 0.5857\n",
      "Epoch 00022: val_loss did not improve from 0.66927\n",
      "240/240 [==============================] - 555s 2s/step - loss: 0.9792 - accuracy: 0.5857 - val_loss: 0.6995 - val_accuracy: 0.7303\n",
      "Epoch 23/200\n",
      "240/240 [==============================] - ETA: 0s - loss: 0.9729 - accuracy: 0.5918\n",
      "Epoch 00023: val_loss did not improve from 0.66927\n",
      "240/240 [==============================] - 553s 2s/step - loss: 0.9729 - accuracy: 0.5918 - val_loss: 0.6914 - val_accuracy: 0.7326\n",
      "Epoch 24/200\n",
      "240/240 [==============================] - ETA: 0s - loss: 0.9618 - accuracy: 0.6025\n",
      "Epoch 00024: val_loss improved from 0.66927 to 0.63414, saving model to bert_model.h5\n",
      "240/240 [==============================] - 575s 2s/step - loss: 0.9618 - accuracy: 0.6025 - val_loss: 0.6341 - val_accuracy: 0.7656\n",
      "Epoch 25/200\n",
      "240/240 [==============================] - ETA: 0s - loss: 0.9505 - accuracy: 0.6120\n",
      "Epoch 00025: val_loss did not improve from 0.63414\n",
      "240/240 [==============================] - 623s 3s/step - loss: 0.9505 - accuracy: 0.6120 - val_loss: 0.6545 - val_accuracy: 0.7609\n",
      "Epoch 26/200\n",
      "240/240 [==============================] - ETA: 0s - loss: 0.9428 - accuracy: 0.6107\n",
      "Epoch 00026: val_loss improved from 0.63414 to 0.60010, saving model to bert_model.h5\n",
      "240/240 [==============================] - 577s 2s/step - loss: 0.9428 - accuracy: 0.6107 - val_loss: 0.6001 - val_accuracy: 0.7939\n",
      "Epoch 27/200\n",
      "240/240 [==============================] - ETA: 0s - loss: 0.9249 - accuracy: 0.6180\n",
      "Epoch 00027: val_loss did not improve from 0.60010\n",
      "240/240 [==============================] - 604s 3s/step - loss: 0.9249 - accuracy: 0.6180 - val_loss: 0.6055 - val_accuracy: 0.7927\n"
     ]
    },
    {
     "name": "stdout",
     "output_type": "stream",
     "text": [
      "Epoch 28/200\n",
      "240/240 [==============================] - ETA: 0s - loss: 0.9202 - accuracy: 0.6191\n",
      "Epoch 00028: val_loss improved from 0.60010 to 0.56571, saving model to bert_model.h5\n",
      "240/240 [==============================] - 593s 2s/step - loss: 0.9202 - accuracy: 0.6191 - val_loss: 0.5657 - val_accuracy: 0.8139\n",
      "Epoch 29/200\n",
      "240/240 [==============================] - ETA: 0s - loss: 0.9010 - accuracy: 0.6314\n",
      "Epoch 00029: val_loss improved from 0.56571 to 0.55613, saving model to bert_model.h5\n",
      "240/240 [==============================] - 670s 3s/step - loss: 0.9010 - accuracy: 0.6314 - val_loss: 0.5561 - val_accuracy: 0.8068\n",
      "Epoch 30/200\n",
      "240/240 [==============================] - ETA: 0s - loss: 0.9018 - accuracy: 0.6280\n",
      "Epoch 00030: val_loss improved from 0.55613 to 0.52732, saving model to bert_model.h5\n",
      "240/240 [==============================] - 585s 2s/step - loss: 0.9018 - accuracy: 0.6280 - val_loss: 0.5273 - val_accuracy: 0.8245\n",
      "Epoch 31/200\n",
      "240/240 [==============================] - ETA: 0s - loss: 0.9011 - accuracy: 0.6311\n",
      "Epoch 00031: val_loss did not improve from 0.52732\n",
      "240/240 [==============================] - 639s 3s/step - loss: 0.9011 - accuracy: 0.6311 - val_loss: 0.5449 - val_accuracy: 0.8115\n",
      "Epoch 32/200\n",
      "240/240 [==============================] - ETA: 0s - loss: 0.8745 - accuracy: 0.6449\n",
      "Epoch 00032: val_loss improved from 0.52732 to 0.48737, saving model to bert_model.h5\n",
      "240/240 [==============================] - 611s 3s/step - loss: 0.8745 - accuracy: 0.6449 - val_loss: 0.4874 - val_accuracy: 0.8469\n",
      "Epoch 33/200\n",
      "240/240 [==============================] - ETA: 0s - loss: 0.8692 - accuracy: 0.6409\n",
      "Epoch 00033: val_loss did not improve from 0.48737\n",
      "240/240 [==============================] - 598s 2s/step - loss: 0.8692 - accuracy: 0.6409 - val_loss: 0.5073 - val_accuracy: 0.8104\n",
      "Epoch 34/200\n",
      "240/240 [==============================] - ETA: 0s - loss: 0.8686 - accuracy: 0.6491\n",
      "Epoch 00034: val_loss did not improve from 0.48737\n",
      "240/240 [==============================] - 513s 2s/step - loss: 0.8686 - accuracy: 0.6491 - val_loss: 0.5450 - val_accuracy: 0.8057\n",
      "Epoch 35/200\n",
      "240/240 [==============================] - ETA: 0s - loss: 0.8685 - accuracy: 0.6483\n",
      "Epoch 00035: val_loss did not improve from 0.48737\n",
      "240/240 [==============================] - 481s 2s/step - loss: 0.8685 - accuracy: 0.6483 - val_loss: 0.4934 - val_accuracy: 0.8516\n",
      "Epoch 36/200\n",
      "206/240 [========================>.....] - ETA: 1:02 - loss: 0.8635 - accuracy: 0.6482"
     ]
    }
   ],
   "source": [
    "history = model.fit(train_data, \n",
    "                   validation_data=val_data,\n",
    "                   epochs=200,\n",
    "                   callbacks=callbacks\n",
    "                   )"
   ]
  },
  {
   "cell_type": "code",
   "execution_count": null,
   "metadata": {},
   "outputs": [],
   "source": [
    "hist = history\n",
    "plt.figure(figsize=(15,6))\n",
    "\n",
    "plt.subplot(1,2,1)\n",
    "plt.plot(hist.epoch,hist.history['accuracy'],label = 'Training')\n",
    "plt.plot(hist.epoch,hist.history['val_accuracy'],label = 'validation')\n",
    "\n",
    "plt.title(\"Accuracy\")\n",
    "plt.legend()\n",
    "\n",
    "plt.subplot(1,2,2)\n",
    "plt.plot(hist.epoch,hist.history['loss'],label = 'Training')\n",
    "plt.plot(hist.epoch,hist.history['val_loss'],label = 'validation')\n",
    "\n",
    "plt.title(\"Loss\")\n",
    "plt.legend()\n",
    "plt.show()"
   ]
  },
  {
   "cell_type": "code",
   "execution_count": null,
   "metadata": {},
   "outputs": [],
   "source": []
  },
  {
   "cell_type": "code",
   "execution_count": null,
   "metadata": {},
   "outputs": [],
   "source": []
  },
  {
   "cell_type": "code",
   "execution_count": null,
   "metadata": {},
   "outputs": [],
   "source": [
    "def map_to_input(sen:str, seq_len:int):\n",
    "    tokens = tokenizer.encode_plus(sen, max_length=seq_len, \n",
    "                               truncation=True, padding=\"max_length\",\n",
    "                               add_special_tokens=True, return_token_type_ids=False,\n",
    "                               return_attention_mask=True, return_tensors=\"tf\"\n",
    "                              )\n",
    "    \n",
    "    return tokens"
   ]
  },
  {
   "cell_type": "code",
   "execution_count": null,
   "metadata": {},
   "outputs": [],
   "source": [
    "from transformers import TFBertModel\n",
    "\n",
    "# Define the custom objects dictionary with the TFBertModel layer\n",
    "custom_objects = {'TFBertModel': TFBertModel}\n",
    "\n",
    "# Load the model and pass the custom objects dictionary\n",
    "model = tf.keras.models.load_model('bert_model.h5', custom_objects=custom_objects)"
   ]
  },
  {
   "cell_type": "code",
   "execution_count": null,
   "metadata": {},
   "outputs": [],
   "source": [
    "classes = {\n",
    "    0: \"Negative\",\n",
    "    1: \"Somewhat Negative\",\n",
    "    2: \"Neutral\",\n",
    "    3: \"Somewhat Positive\",\n",
    "    4: \"Positive\"\n",
    "}"
   ]
  },
  {
   "cell_type": "code",
   "execution_count": null,
   "metadata": {},
   "outputs": [],
   "source": [
    "df2 = pd.read_csv(\"dataset/test.tsv\", sep=\"\\t\")\n",
    "df2.drop_duplicates(subset=\"SentenceId\", keep=\"first\", inplace=True)\n",
    "df2.head()"
   ]
  },
  {
   "cell_type": "code",
   "execution_count": null,
   "metadata": {},
   "outputs": [],
   "source": [
    "final_out = {}\n",
    "\n",
    "for i in tqdm(range(100)):\n",
    "    to_test = df2[\"Phrase\"].iloc[i]\n",
    "#     print(to_test)\n",
    "\n",
    "    test_input = map_to_input(to_test, SEQ_LEN)\n",
    "    input_ids = test_input[\"input_ids\"]\n",
    "    mask = test_input[\"attention_mask\"]\n",
    "    \n",
    "    pred = model.predict([input_ids, mask], verbose=0)\n",
    "#     print(f\"The output class is: {classes[np.argmax(pred[0])]}\")\n",
    "    final_out[to_test] = classes[np.argmax(pred[0])]"
   ]
  },
  {
   "cell_type": "code",
   "execution_count": null,
   "metadata": {},
   "outputs": [],
   "source": [
    "for i in final_out.keys():\n",
    "    print(f\"{i[:100]} ==> {final_out[i]}\\n\")"
   ]
  },
  {
   "cell_type": "code",
   "execution_count": null,
   "metadata": {},
   "outputs": [],
   "source": []
  }
 ],
 "metadata": {
  "kernelspec": {
   "display_name": "Python 3 (ipykernel)",
   "language": "python",
   "name": "python3"
  },
  "language_info": {
   "codemirror_mode": {
    "name": "ipython",
    "version": 3
   },
   "file_extension": ".py",
   "mimetype": "text/x-python",
   "name": "python",
   "nbconvert_exporter": "python",
   "pygments_lexer": "ipython3",
   "version": "3.8.0"
  }
 },
 "nbformat": 4,
 "nbformat_minor": 4
}
